{
 "cells": [
  {
   "cell_type": "code",
   "execution_count": 45,
   "metadata": {},
   "outputs": [],
   "source": [
    "import pandas as pd\n",
    "from sklearn import linear_model\n",
    "from sklearn.model_selection import train_test_split\n",
    "from sklearn.metrics import mean_squared_error, mean_absolute_error\n",
    "import numpy as np\n",
    "import random\n",
    "\n",
    "np.random.seed(420)\n",
    "random.seed(420)"
   ]
  },
  {
   "cell_type": "code",
   "execution_count": 2,
   "metadata": {},
   "outputs": [],
   "source": [
    "def loadData(name=\"data/spotifyCatalog.csv\"):\n",
    "    return pd.read_csv(name)\n",
    "\n",
    "data = loadData()"
   ]
  },
  {
   "cell_type": "code",
   "execution_count": 3,
   "metadata": {},
   "outputs": [
    {
     "data": {
      "text/html": [
       "<div>\n",
       "<style scoped>\n",
       "    .dataframe tbody tr th:only-of-type {\n",
       "        vertical-align: middle;\n",
       "    }\n",
       "\n",
       "    .dataframe tbody tr th {\n",
       "        vertical-align: top;\n",
       "    }\n",
       "\n",
       "    .dataframe thead th {\n",
       "        text-align: right;\n",
       "    }\n",
       "</style>\n",
       "<table border=\"1\" class=\"dataframe\">\n",
       "  <thead>\n",
       "    <tr style=\"text-align: right;\">\n",
       "      <th></th>\n",
       "      <th>Unnamed: 0</th>\n",
       "      <th>album_id</th>\n",
       "      <th>album_name</th>\n",
       "      <th>artist_ids</th>\n",
       "      <th>artist_names</th>\n",
       "      <th>duration_ms</th>\n",
       "      <th>id</th>\n",
       "      <th>name</th>\n",
       "      <th>us_available</th>\n",
       "      <th>year</th>\n",
       "      <th>...</th>\n",
       "      <th>instrumentalness</th>\n",
       "      <th>key</th>\n",
       "      <th>liveness</th>\n",
       "      <th>loudness</th>\n",
       "      <th>mode</th>\n",
       "      <th>speechiness</th>\n",
       "      <th>tempo</th>\n",
       "      <th>time_signature</th>\n",
       "      <th>valence</th>\n",
       "      <th>genreArrStr</th>\n",
       "    </tr>\n",
       "  </thead>\n",
       "  <tbody>\n",
       "    <tr>\n",
       "      <th>0</th>\n",
       "      <td>354801</td>\n",
       "      <td>50hRYWK49z2kBf6cMxHmZe</td>\n",
       "      <td>ジムノペディ サティ作品集 II</td>\n",
       "      <td>['459INk8vcC0ebEef82WjIK', '6ltV1dxtdNmFBvpZz2...</td>\n",
       "      <td>['Erik Satie', '白石光隆']</td>\n",
       "      <td>68268</td>\n",
       "      <td>6VKX9Dheh0qLmjfK2Npq4z</td>\n",
       "      <td>ばら十字教団の最初の思想</td>\n",
       "      <td>True</td>\n",
       "      <td>2012</td>\n",
       "      <td>...</td>\n",
       "      <td>874</td>\n",
       "      <td>0</td>\n",
       "      <td>107</td>\n",
       "      <td>-30.795</td>\n",
       "      <td>1000</td>\n",
       "      <td>57</td>\n",
       "      <td>139.804</td>\n",
       "      <td>4</td>\n",
       "      <td>188</td>\n",
       "      <td>['classical']</td>\n",
       "    </tr>\n",
       "    <tr>\n",
       "      <th>1</th>\n",
       "      <td>553689</td>\n",
       "      <td>51WBTsiitqhIE9DkHNvZqR</td>\n",
       "      <td>Necessary Roughness</td>\n",
       "      <td>['5CxwOBCoGSvWxfDgNoa1Nv']</td>\n",
       "      <td>['The Lady Of Rage']</td>\n",
       "      <td>237026</td>\n",
       "      <td>3ptH0tXq7HEaIWxyn7vkOy</td>\n",
       "      <td>Get With Da Wickedness</td>\n",
       "      <td>True</td>\n",
       "      <td>2001</td>\n",
       "      <td>...</td>\n",
       "      <td>0</td>\n",
       "      <td>11</td>\n",
       "      <td>322</td>\n",
       "      <td>-5.390</td>\n",
       "      <td>0</td>\n",
       "      <td>357</td>\n",
       "      <td>88.183</td>\n",
       "      <td>4</td>\n",
       "      <td>802</td>\n",
       "      <td>['pop', 'rap', 'hip', 'funk']</td>\n",
       "    </tr>\n",
       "    <tr>\n",
       "      <th>2</th>\n",
       "      <td>290293</td>\n",
       "      <td>57CBQ2KFwHoY3vJGHgofCo</td>\n",
       "      <td>Retreat</td>\n",
       "      <td>['4qDGDPGMIJuIvPfUGe0Ngg']</td>\n",
       "      <td>['Cutty Ranks']</td>\n",
       "      <td>230866</td>\n",
       "      <td>0SPxr6sGUeRlTHndjOryKT</td>\n",
       "      <td>Me Fit</td>\n",
       "      <td>True</td>\n",
       "      <td>1991</td>\n",
       "      <td>...</td>\n",
       "      <td>0</td>\n",
       "      <td>6</td>\n",
       "      <td>39</td>\n",
       "      <td>-17.489</td>\n",
       "      <td>0</td>\n",
       "      <td>98</td>\n",
       "      <td>172.787</td>\n",
       "      <td>4</td>\n",
       "      <td>967</td>\n",
       "      <td>['dance']</td>\n",
       "    </tr>\n",
       "    <tr>\n",
       "      <th>3</th>\n",
       "      <td>321077</td>\n",
       "      <td>6HT1eWnFxuB1apcSuOzpd2</td>\n",
       "      <td>Puccini: Boheme (La)</td>\n",
       "      <td>['0OzxPXyowUEQ532c9AmHUR', '7oPmR7kujiCfv7EjD1...</td>\n",
       "      <td>['Giacomo Puccini', 'Stanislav Beňačka', 'Carm...</td>\n",
       "      <td>115066</td>\n",
       "      <td>5q9ClErLj0ZHXiAkUU0Rsh</td>\n",
       "      <td>La boheme: Act II: Signorina Mimi (Marcello, M...</td>\n",
       "      <td>True</td>\n",
       "      <td>1990</td>\n",
       "      <td>...</td>\n",
       "      <td>0</td>\n",
       "      <td>9</td>\n",
       "      <td>667</td>\n",
       "      <td>-19.135</td>\n",
       "      <td>1000</td>\n",
       "      <td>49</td>\n",
       "      <td>125.942</td>\n",
       "      <td>3</td>\n",
       "      <td>202</td>\n",
       "      <td>['classical', 'folk']</td>\n",
       "    </tr>\n",
       "    <tr>\n",
       "      <th>4</th>\n",
       "      <td>560873</td>\n",
       "      <td>2RmEcwZVXG5Z1rHED7MYhs</td>\n",
       "      <td>Kompilation</td>\n",
       "      <td>['51qSeH9HimuYMMQ7qbWGrk']</td>\n",
       "      <td>['Jürgen Paape']</td>\n",
       "      <td>357921</td>\n",
       "      <td>1T3UB1f8rkB72u6GeTRKrp</td>\n",
       "      <td>Fruity Loops #2</td>\n",
       "      <td>True</td>\n",
       "      <td>2011</td>\n",
       "      <td>...</td>\n",
       "      <td>775</td>\n",
       "      <td>10</td>\n",
       "      <td>81</td>\n",
       "      <td>-12.442</td>\n",
       "      <td>1000</td>\n",
       "      <td>48</td>\n",
       "      <td>123.996</td>\n",
       "      <td>4</td>\n",
       "      <td>354</td>\n",
       "      <td>['electr', 'house']</td>\n",
       "    </tr>\n",
       "  </tbody>\n",
       "</table>\n",
       "<p>5 rows × 23 columns</p>\n",
       "</div>"
      ],
      "text/plain": [
       "   Unnamed: 0                album_id            album_name  \\\n",
       "0      354801  50hRYWK49z2kBf6cMxHmZe      ジムノペディ サティ作品集 II   \n",
       "1      553689  51WBTsiitqhIE9DkHNvZqR   Necessary Roughness   \n",
       "2      290293  57CBQ2KFwHoY3vJGHgofCo               Retreat   \n",
       "3      321077  6HT1eWnFxuB1apcSuOzpd2  Puccini: Boheme (La)   \n",
       "4      560873  2RmEcwZVXG5Z1rHED7MYhs           Kompilation   \n",
       "\n",
       "                                          artist_ids  \\\n",
       "0  ['459INk8vcC0ebEef82WjIK', '6ltV1dxtdNmFBvpZz2...   \n",
       "1                         ['5CxwOBCoGSvWxfDgNoa1Nv']   \n",
       "2                         ['4qDGDPGMIJuIvPfUGe0Ngg']   \n",
       "3  ['0OzxPXyowUEQ532c9AmHUR', '7oPmR7kujiCfv7EjD1...   \n",
       "4                         ['51qSeH9HimuYMMQ7qbWGrk']   \n",
       "\n",
       "                                        artist_names  duration_ms  \\\n",
       "0                             ['Erik Satie', '白石光隆']        68268   \n",
       "1                               ['The Lady Of Rage']       237026   \n",
       "2                                    ['Cutty Ranks']       230866   \n",
       "3  ['Giacomo Puccini', 'Stanislav Beňačka', 'Carm...       115066   \n",
       "4                                   ['Jürgen Paape']       357921   \n",
       "\n",
       "                       id                                               name  \\\n",
       "0  6VKX9Dheh0qLmjfK2Npq4z                                       ばら十字教団の最初の思想   \n",
       "1  3ptH0tXq7HEaIWxyn7vkOy                             Get With Da Wickedness   \n",
       "2  0SPxr6sGUeRlTHndjOryKT                                             Me Fit   \n",
       "3  5q9ClErLj0ZHXiAkUU0Rsh  La boheme: Act II: Signorina Mimi (Marcello, M...   \n",
       "4  1T3UB1f8rkB72u6GeTRKrp                                    Fruity Loops #2   \n",
       "\n",
       "   us_available  year  ...  instrumentalness  key  liveness  loudness  mode  \\\n",
       "0          True  2012  ...               874    0       107   -30.795  1000   \n",
       "1          True  2001  ...                 0   11       322    -5.390     0   \n",
       "2          True  1991  ...                 0    6        39   -17.489     0   \n",
       "3          True  1990  ...                 0    9       667   -19.135  1000   \n",
       "4          True  2011  ...               775   10        81   -12.442  1000   \n",
       "\n",
       "   speechiness    tempo  time_signature  valence  \\\n",
       "0           57  139.804               4      188   \n",
       "1          357   88.183               4      802   \n",
       "2           98  172.787               4      967   \n",
       "3           49  125.942               3      202   \n",
       "4           48  123.996               4      354   \n",
       "\n",
       "                     genreArrStr  \n",
       "0                  ['classical']  \n",
       "1  ['pop', 'rap', 'hip', 'funk']  \n",
       "2                      ['dance']  \n",
       "3          ['classical', 'folk']  \n",
       "4            ['electr', 'house']  \n",
       "\n",
       "[5 rows x 23 columns]"
      ]
     },
     "execution_count": 3,
     "metadata": {},
     "output_type": "execute_result"
    }
   ],
   "source": [
    "data.head()"
   ]
  },
  {
   "cell_type": "markdown",
   "metadata": {},
   "source": [
    "# Predicting Track Release Year"
   ]
  },
  {
   "cell_type": "markdown",
   "metadata": {},
   "source": [
    "### Generating Data"
   ]
  },
  {
   "cell_type": "code",
   "execution_count": 5,
   "metadata": {},
   "outputs": [
    {
     "data": {
      "text/plain": [
       "Index(['Unnamed: 0', 'album_id', 'album_name', 'artist_ids', 'artist_names',\n",
       "       'duration_ms', 'id', 'name', 'us_available', 'year', 'acousticness',\n",
       "       'danceability', 'energy', 'instrumentalness', 'key', 'liveness',\n",
       "       'loudness', 'mode', 'speechiness', 'tempo', 'time_signature', 'valence',\n",
       "       'genreArrStr'],\n",
       "      dtype='object')"
      ]
     },
     "execution_count": 5,
     "metadata": {},
     "output_type": "execute_result"
    }
   ],
   "source": [
    "data.columns"
   ]
  },
  {
   "cell_type": "code",
   "execution_count": 18,
   "metadata": {},
   "outputs": [],
   "source": [
    "features = ['duration_ms', 'acousticness',\n",
    "       'danceability', 'energy', 'instrumentalness', 'key', 'liveness',\n",
    "       'loudness', 'mode', 'speechiness', 'tempo', 'valence', 'year']"
   ]
  },
  {
   "cell_type": "code",
   "execution_count": 37,
   "metadata": {},
   "outputs": [],
   "source": [
    "x = data[features].values\n",
    "train, test = train_test_split(x, train_size=0.9)\n",
    "train, val = train_test_split(train, train_size=0.7)\n",
    "x_train, y_train = train[:,:-1], train[:,-1]\n",
    "x_val, y_val = val[:,:-1], val[:,-1]\n",
    "x_test, y_test = test[:,:-1], test[:,-1]"
   ]
  },
  {
   "cell_type": "code",
   "execution_count": 38,
   "metadata": {},
   "outputs": [
    {
     "data": {
      "text/plain": [
       "((216475, 12), (92776, 12), (34362, 12))"
      ]
     },
     "execution_count": 38,
     "metadata": {},
     "output_type": "execute_result"
    }
   ],
   "source": [
    "x_train.shape, x_val.shape, x_test.shape"
   ]
  },
  {
   "cell_type": "markdown",
   "metadata": {},
   "source": [
    "### Standardizing Data"
   ]
  },
  {
   "cell_type": "code",
   "execution_count": 137,
   "metadata": {},
   "outputs": [],
   "source": [
    "coeffs = None\n",
    "\n",
    "def standardize(data):\n",
    "    \"\"\"divide each column by the column's maximum\"\"\"\n",
    "    global coeffs\n",
    "    if coeffs is None:\n",
    "        coeffs = np.max(data, axis=0)\n",
    "    data = data.copy()\n",
    "    return data*1/coeffs\n",
    "\n",
    "def featurize(data):\n",
    "#     l = data.shape[1]\n",
    "#     for i in range(l):\n",
    "# #         for ii in range(l):\n",
    "#             newCrossTerm = np.multiply(data[:,[i]], data[:,[i]])\n",
    "#             data = np.hstack((data, newCrossTerm))\n",
    "    return data\n",
    "\n",
    "x_train_std = featurize(standardize(x_train))\n",
    "x_val_std = featurize(standardize(x_val))\n",
    "x_test_std = featurize(standardize(x_test))"
   ]
  },
  {
   "cell_type": "code",
   "execution_count": 138,
   "metadata": {},
   "outputs": [
    {
     "data": {
      "text/plain": [
       "(216475, 12)"
      ]
     },
     "execution_count": 138,
     "metadata": {},
     "output_type": "execute_result"
    }
   ],
   "source": [
    "x_train_std.shape"
   ]
  },
  {
   "cell_type": "markdown",
   "metadata": {},
   "source": [
    "### Fitting Ridge Regression Model To Predict Song Year"
   ]
  },
  {
   "cell_type": "code",
   "execution_count": 139,
   "metadata": {},
   "outputs": [
    {
     "data": {
      "text/plain": [
       "12.217835815856255"
      ]
     },
     "execution_count": 139,
     "metadata": {},
     "output_type": "execute_result"
    }
   ],
   "source": [
    "year_model = linear_model.Ridge(alpha=0)\n",
    "year_model.fit(x_train_std, y_train)\n",
    "mean_absolute_error(y_train, year_model.predict(x_train_std))"
   ]
  },
  {
   "cell_type": "code",
   "execution_count": 140,
   "metadata": {},
   "outputs": [
    {
     "data": {
      "text/plain": [
       "12.138356977749075"
      ]
     },
     "execution_count": 140,
     "metadata": {},
     "output_type": "execute_result"
    }
   ],
   "source": [
    "mean_absolute_error(y_val, year_model.predict(x_val_std))"
   ]
  },
  {
   "cell_type": "code",
   "execution_count": 143,
   "metadata": {},
   "outputs": [
    {
     "data": {
      "text/plain": [
       "array([2008.1122257])"
      ]
     },
     "execution_count": 143,
     "metadata": {},
     "output_type": "execute_result"
    }
   ],
   "source": [
    "year_model.predict([[0,0,0,0,0,0,0,0,0,0,0,0]])"
   ]
  },
  {
   "cell_type": "code",
   "execution_count": 144,
   "metadata": {},
   "outputs": [
    {
     "data": {
      "text/plain": [
       "2008.1122257010538"
      ]
     },
     "execution_count": 144,
     "metadata": {},
     "output_type": "execute_result"
    }
   ],
   "source": [
    "year_model.intercept_"
   ]
  },
  {
   "cell_type": "code",
   "execution_count": null,
   "metadata": {},
   "outputs": [],
   "source": []
  }
 ],
 "metadata": {
  "kernelspec": {
   "display_name": "Python 3",
   "language": "python",
   "name": "python3"
  },
  "language_info": {
   "codemirror_mode": {
    "name": "ipython",
    "version": 3
   },
   "file_extension": ".py",
   "mimetype": "text/x-python",
   "name": "python",
   "nbconvert_exporter": "python",
   "pygments_lexer": "ipython3",
   "version": "3.7.7"
  }
 },
 "nbformat": 4,
 "nbformat_minor": 2
}
